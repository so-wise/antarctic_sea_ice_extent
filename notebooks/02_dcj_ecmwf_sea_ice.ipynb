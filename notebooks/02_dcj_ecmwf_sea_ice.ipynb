{
 "cells": [
  {
   "cell_type": "code",
   "execution_count": null,
   "metadata": {},
   "outputs": [
    {
     "name": "stderr",
     "output_type": "stream",
     "text": [
      "2021-06-30 10:39:55,036 INFO Welcome to the CDS\n",
      "2021-06-30 10:39:55,037 INFO Sending request to https://cds.climate.copernicus.eu/api/v2/resources/satellite-sea-ice-concentration\n",
      "2021-06-30 10:39:55,077 INFO Request is queued\n",
      "2021-06-30 10:39:56,114 INFO Request is running\n",
      "2021-06-30 10:48:13,565 INFO Request is completed\n",
      "2021-06-30 10:48:13,566 INFO Downloading https://download-0008.copernicus-climate.eu/cache-compute-0008/cache/data4/dataset-satellite-sea-ice-concentration-8df1e114-1161-4df5-a937-ec84260fd798.zip to download.zip (436.4M)\n",
      " 36%|███▋      | 159M/436M [04:09<07:14, 668kB/s]    "
     ]
    }
   ],
   "source": [
    "import cdsapi\n",
    "\n",
    "c = cdsapi.Client()\n",
    "\n",
    "c.retrieve(\n",
    "    'satellite-sea-ice-concentration',\n",
    "    {\n",
    "        'version': 'v2',\n",
    "        'variable': 'all',\n",
    "        'format': 'zip',\n",
    "        'region': 'southern_hemisphere',\n",
    "        'origin': 'eumetsat_osi_saf',\n",
    "        'cdr_type': 'icdr',\n",
    "        'year': '2020',\n",
    "        'month': [\n",
    "            '01', '02', '03',\n",
    "            '04', '05', '06',\n",
    "            '07', '08', '09',\n",
    "            '10', '11', '12',\n",
    "        ],\n",
    "        'day': [\n",
    "            '01', '02', '03',\n",
    "            '04', '05', '06',\n",
    "            '07', '08', '09',\n",
    "            '10', '11', '12',\n",
    "            '13', '14', '15',\n",
    "            '16', '17', '18',\n",
    "            '19', '20', '21',\n",
    "            '22', '23', '24',\n",
    "            '25', '26', '27',\n",
    "            '28', '29', '30',\n",
    "            '31',\n",
    "        ],\n",
    "    },\n",
    "    'download.zip')"
   ]
  },
  {
   "cell_type": "code",
   "execution_count": null,
   "metadata": {},
   "outputs": [],
   "source": []
  }
 ],
 "metadata": {
  "kernelspec": {
   "display_name": "Python 3",
   "language": "python",
   "name": "python3"
  },
  "language_info": {
   "codemirror_mode": {
    "name": "ipython",
    "version": 3
   },
   "file_extension": ".py",
   "mimetype": "text/x-python",
   "name": "python",
   "nbconvert_exporter": "python",
   "pygments_lexer": "ipython3",
   "version": "3.7.4"
  }
 },
 "nbformat": 4,
 "nbformat_minor": 2
}
